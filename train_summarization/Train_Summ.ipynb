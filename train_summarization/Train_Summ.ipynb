{
  "cells": [
    {
      "cell_type": "markdown",
      "metadata": {
        "id": "uKFH2e6pLyfH"
      },
      "source": [
        "**Импорт библиотек**\n"
      ]
    },
    {
      "cell_type": "code",
      "execution_count": null,
      "metadata": {
        "id": "45eLxUthLhgs"
      },
      "outputs": [],
      "source": [
        "%pip install rouge_score\n",
        "%pip install evaluate\n",
        "%pip install --upgrade -q wandb"
      ]
    },
    {
      "cell_type": "code",
      "execution_count": 23,
      "metadata": {
        "id": "BzugzYfiMGFw"
      },
      "outputs": [],
      "source": [
        "import pandas as pd\n",
        "import numpy as np\n",
        "import os\n",
        "\n",
        "import matplotlib.pyplot as plt\n",
        "import seaborn as sns\n",
        "\n",
        "import torch\n",
        "import torch.nn as nn\n",
        "\n",
        "from transformers import AutoModelForSeq2SeqLM, AutoTokenizer, pipeline, set_seed\n",
        "from transformers import DataCollatorForSeq2Seq\n",
        "from transformers import Seq2SeqTrainer\n",
        "from transformers import Seq2SeqTrainingArguments\n",
        "\n",
        "import datasets\n",
        "from datasets import load_metric, Dataset\n",
        "from datasets import DatasetDict\n",
        "\n",
        "from tqdm import tqdm\n",
        "\n",
        "import wandb\n",
        "\n",
        "# Заменить на RAZDEL (возможно)\n",
        "# import nltk\n",
        "# from nltk.tokenize import sent_tokenize\n",
        "# nltk.download(\"punkt\")\n",
        "\n",
        "import warnings\n",
        "warnings.filterwarnings('ignore')"
      ]
    },
    {
      "cell_type": "markdown",
      "metadata": {
        "id": "j4CWO62eMlo0"
      },
      "source": [
        "Загрузка предобученной модели"
      ]
    },
    {
      "cell_type": "code",
      "execution_count": null,
      "metadata": {
        "id": "ODmclD0NMd8U"
      },
      "outputs": [],
      "source": [
        "device = \"cuda\" if torch.cuda.is_available() else \"cpu\"\n",
        "\n",
        "model_ckpt = \"IlyaGusev/mbart_ru_sum_gazeta\"\n",
        "\n",
        "tokenizer = AutoTokenizer.from_pretrained(model_ckpt)\n",
        "\n",
        "model = AutoModelForSeq2SeqLM.from_pretrained(model_ckpt).to(device)"
      ]
    },
    {
      "cell_type": "code",
      "execution_count": 13,
      "metadata": {},
      "outputs": [],
      "source": [
        "test_parquet_file = \"data\\\\test-00000-of-00001.parquet\"\n",
        "train1_parquet_file = \"data\\\\train-00000-of-00002.parquet\"\n",
        "train2_parquet_file = \"data\\\\train-00001-of-00002.parquet\"\n",
        "valodation_parquet_file = \"data\\\\validation-00000-of-00001.parquet\"\n",
        "\n",
        "df = pd.read_parquet(valodation_parquet_file)"
      ]
    },
    {
      "cell_type": "markdown",
      "metadata": {
        "id": "wqlORFGENcwz"
      },
      "source": []
    },
    {
      "cell_type": "code",
      "execution_count": 14,
      "metadata": {
        "id": "zve7bFe2NdTO"
      },
      "outputs": [
        {
          "data": {
            "text/html": [
              "<div>\n",
              "<style scoped>\n",
              "    .dataframe tbody tr th:only-of-type {\n",
              "        vertical-align: middle;\n",
              "    }\n",
              "\n",
              "    .dataframe tbody tr th {\n",
              "        vertical-align: top;\n",
              "    }\n",
              "\n",
              "    .dataframe thead th {\n",
              "        text-align: right;\n",
              "    }\n",
              "</style>\n",
              "<table border=\"1\" class=\"dataframe\">\n",
              "  <thead>\n",
              "    <tr style=\"text-align: right;\">\n",
              "      <th></th>\n",
              "      <th>info</th>\n",
              "      <th>summary</th>\n",
              "    </tr>\n",
              "  </thead>\n",
              "  <tbody>\n",
              "    <tr>\n",
              "      <th>0</th>\n",
              "      <td>В ближайшее воскресенье в легкоатлетическом ма...</td>\n",
              "      <td>В ближайшее воскресенье в Москве в 20-й раз в ...</td>\n",
              "    </tr>\n",
              "    <tr>\n",
              "      <th>1</th>\n",
              "      <td>Страны НАТО и члены Совбеза ООН устроили перек...</td>\n",
              "      <td>Страны Запада приступили к детальному планиров...</td>\n",
              "    </tr>\n",
              "    <tr>\n",
              "      <th>2</th>\n",
              "      <td>В понедельник прокуратура Петербурга официальн...</td>\n",
              "      <td>Проверив треть питерских НКО, финансируемых из...</td>\n",
              "    </tr>\n",
              "    <tr>\n",
              "      <th>3</th>\n",
              "      <td>Обязательный масочный режим, который был введе...</td>\n",
              "      <td>Соблюдение обязательных мер профилактики корон...</td>\n",
              "    </tr>\n",
              "    <tr>\n",
              "      <th>4</th>\n",
              "      <td>Обвинительный приговор Ходорковскому и Лебедев...</td>\n",
              "      <td>Реформа правосудия по Медведеву буксует. Финал...</td>\n",
              "    </tr>\n",
              "  </tbody>\n",
              "</table>\n",
              "</div>"
            ],
            "text/plain": [
              "                                                info  \\\n",
              "0  В ближайшее воскресенье в легкоатлетическом ма...   \n",
              "1  Страны НАТО и члены Совбеза ООН устроили перек...   \n",
              "2  В понедельник прокуратура Петербурга официальн...   \n",
              "3  Обязательный масочный режим, который был введе...   \n",
              "4  Обвинительный приговор Ходорковскому и Лебедев...   \n",
              "\n",
              "                                             summary  \n",
              "0  В ближайшее воскресенье в Москве в 20-й раз в ...  \n",
              "1  Страны Запада приступили к детальному планиров...  \n",
              "2  Проверив треть питерских НКО, финансируемых из...  \n",
              "3  Соблюдение обязательных мер профилактики корон...  \n",
              "4  Реформа правосудия по Медведеву буксует. Финал...  "
            ]
          },
          "execution_count": 14,
          "metadata": {},
          "output_type": "execute_result"
        }
      ],
      "source": [
        "df.head()"
      ]
    },
    {
      "cell_type": "code",
      "execution_count": 15,
      "metadata": {},
      "outputs": [
        {
          "data": {
            "text/plain": [
              "info       0\n",
              "summary    0\n",
              "dtype: int64"
            ]
          },
          "execution_count": 15,
          "metadata": {},
          "output_type": "execute_result"
        }
      ],
      "source": [
        "# removing nans if any\n",
        "df.dropna(inplace=True)\n",
        "df.isnull().sum()"
      ]
    },
    {
      "cell_type": "code",
      "execution_count": 35,
      "metadata": {},
      "outputs": [
        {
          "data": {
            "text/html": [
              "<div>\n",
              "<style scoped>\n",
              "    .dataframe tbody tr th:only-of-type {\n",
              "        vertical-align: middle;\n",
              "    }\n",
              "\n",
              "    .dataframe tbody tr th {\n",
              "        vertical-align: top;\n",
              "    }\n",
              "\n",
              "    .dataframe thead th {\n",
              "        text-align: right;\n",
              "    }\n",
              "</style>\n",
              "<table border=\"1\" class=\"dataframe\">\n",
              "  <thead>\n",
              "    <tr style=\"text-align: right;\">\n",
              "      <th></th>\n",
              "      <th>info</th>\n",
              "      <th>summary</th>\n",
              "      <th>num_words_info</th>\n",
              "      <th>num_words_summary</th>\n",
              "    </tr>\n",
              "  </thead>\n",
              "  <tbody>\n",
              "    <tr>\n",
              "      <th>0</th>\n",
              "      <td>В ближайшее воскресенье в легкоатлетическом ма...</td>\n",
              "      <td>В ближайшее воскресенье в Москве в 20-й раз в ...</td>\n",
              "      <td>691</td>\n",
              "      <td>36</td>\n",
              "    </tr>\n",
              "    <tr>\n",
              "      <th>1</th>\n",
              "      <td>Страны НАТО и члены Совбеза ООН устроили перек...</td>\n",
              "      <td>Страны Запада приступили к детальному планиров...</td>\n",
              "      <td>466</td>\n",
              "      <td>45</td>\n",
              "    </tr>\n",
              "    <tr>\n",
              "      <th>2</th>\n",
              "      <td>В понедельник прокуратура Петербурга официальн...</td>\n",
              "      <td>Проверив треть питерских НКО, финансируемых из...</td>\n",
              "      <td>761</td>\n",
              "      <td>37</td>\n",
              "    </tr>\n",
              "    <tr>\n",
              "      <th>3</th>\n",
              "      <td>Обязательный масочный режим, который был введе...</td>\n",
              "      <td>Соблюдение обязательных мер профилактики корон...</td>\n",
              "      <td>543</td>\n",
              "      <td>47</td>\n",
              "    </tr>\n",
              "    <tr>\n",
              "      <th>4</th>\n",
              "      <td>Обвинительный приговор Ходорковскому и Лебедев...</td>\n",
              "      <td>Реформа правосудия по Медведеву буксует. Финал...</td>\n",
              "      <td>506</td>\n",
              "      <td>17</td>\n",
              "    </tr>\n",
              "    <tr>\n",
              "      <th>...</th>\n",
              "      <td>...</td>\n",
              "      <td>...</td>\n",
              "      <td>...</td>\n",
              "      <td>...</td>\n",
              "    </tr>\n",
              "    <tr>\n",
              "      <th>7183</th>\n",
              "      <td>Российский Forbes опубликовал рейтинг самых вл...</td>\n",
              "      <td>Журнал Forbes составил рейтинг 100 самых влият...</td>\n",
              "      <td>624</td>\n",
              "      <td>39</td>\n",
              "    </tr>\n",
              "    <tr>\n",
              "      <th>7184</th>\n",
              "      <td>Следственный отдел по Хилокскому району СУ СКР...</td>\n",
              "      <td>В Забайкальском крае задержали двух подозревае...</td>\n",
              "      <td>510</td>\n",
              "      <td>30</td>\n",
              "    </tr>\n",
              "    <tr>\n",
              "      <th>7185</th>\n",
              "      <td>В апреле 2012 года российская экономика выросл...</td>\n",
              "      <td>Российская экономика сокращается второй месяц ...</td>\n",
              "      <td>537</td>\n",
              "      <td>35</td>\n",
              "    </tr>\n",
              "    <tr>\n",
              "      <th>7186</th>\n",
              "      <td>Кремль придерживается «устоявшейся практики» и...</td>\n",
              "      <td>Дискуссии о сокращении продолжительности новог...</td>\n",
              "      <td>524</td>\n",
              "      <td>41</td>\n",
              "    </tr>\n",
              "    <tr>\n",
              "      <th>7187</th>\n",
              "      <td>Сотрудники Следственного комитета (СК) ждут, к...</td>\n",
              "      <td>Следователи продолжают разбираться в обстоятел...</td>\n",
              "      <td>361</td>\n",
              "      <td>40</td>\n",
              "    </tr>\n",
              "  </tbody>\n",
              "</table>\n",
              "<p>7188 rows × 4 columns</p>\n",
              "</div>"
            ],
            "text/plain": [
              "                                                   info  \\\n",
              "0     В ближайшее воскресенье в легкоатлетическом ма...   \n",
              "1     Страны НАТО и члены Совбеза ООН устроили перек...   \n",
              "2     В понедельник прокуратура Петербурга официальн...   \n",
              "3     Обязательный масочный режим, который был введе...   \n",
              "4     Обвинительный приговор Ходорковскому и Лебедев...   \n",
              "...                                                 ...   \n",
              "7183  Российский Forbes опубликовал рейтинг самых вл...   \n",
              "7184  Следственный отдел по Хилокскому району СУ СКР...   \n",
              "7185  В апреле 2012 года российская экономика выросл...   \n",
              "7186  Кремль придерживается «устоявшейся практики» и...   \n",
              "7187  Сотрудники Следственного комитета (СК) ждут, к...   \n",
              "\n",
              "                                                summary  num_words_info  \\\n",
              "0     В ближайшее воскресенье в Москве в 20-й раз в ...             691   \n",
              "1     Страны Запада приступили к детальному планиров...             466   \n",
              "2     Проверив треть питерских НКО, финансируемых из...             761   \n",
              "3     Соблюдение обязательных мер профилактики корон...             543   \n",
              "4     Реформа правосудия по Медведеву буксует. Финал...             506   \n",
              "...                                                 ...             ...   \n",
              "7183  Журнал Forbes составил рейтинг 100 самых влият...             624   \n",
              "7184  В Забайкальском крае задержали двух подозревае...             510   \n",
              "7185  Российская экономика сокращается второй месяц ...             537   \n",
              "7186  Дискуссии о сокращении продолжительности новог...             524   \n",
              "7187  Следователи продолжают разбираться в обстоятел...             361   \n",
              "\n",
              "      num_words_summary  \n",
              "0                    36  \n",
              "1                    45  \n",
              "2                    37  \n",
              "3                    47  \n",
              "4                    17  \n",
              "...                 ...  \n",
              "7183                 39  \n",
              "7184                 30  \n",
              "7185                 35  \n",
              "7186                 41  \n",
              "7187                 40  \n",
              "\n",
              "[7188 rows x 4 columns]"
            ]
          },
          "execution_count": 35,
          "metadata": {},
          "output_type": "execute_result"
        }
      ],
      "source": [
        "# функция для подсчета слов в каждом образце\n",
        "def word_count(sentence):\n",
        "    sentences = sentence.split()\n",
        "    return len(sentences)\n",
        "\n",
        "# создание новых столбцов с количеством слов\n",
        "df['num_words_info'] = df['info'].apply(word_count)\n",
        "df['num_words_summary'] = df['summary'].apply(word_count)\n",
        "df.head()"
      ]
    },
    {
      "cell_type": "code",
      "execution_count": 18,
      "metadata": {},
      "outputs": [
        {
          "data": {
            "text/html": [
              "<div>\n",
              "<style scoped>\n",
              "    .dataframe tbody tr th:only-of-type {\n",
              "        vertical-align: middle;\n",
              "    }\n",
              "\n",
              "    .dataframe tbody tr th {\n",
              "        vertical-align: top;\n",
              "    }\n",
              "\n",
              "    .dataframe thead th {\n",
              "        text-align: right;\n",
              "    }\n",
              "</style>\n",
              "<table border=\"1\" class=\"dataframe\">\n",
              "  <thead>\n",
              "    <tr style=\"text-align: right;\">\n",
              "      <th></th>\n",
              "      <th>num_words_info</th>\n",
              "      <th>num_words_summary</th>\n",
              "    </tr>\n",
              "  </thead>\n",
              "  <tbody>\n",
              "    <tr>\n",
              "      <th>count</th>\n",
              "      <td>7188.000000</td>\n",
              "      <td>7188.000000</td>\n",
              "    </tr>\n",
              "    <tr>\n",
              "      <th>mean</th>\n",
              "      <td>533.099054</td>\n",
              "      <td>38.201029</td>\n",
              "    </tr>\n",
              "    <tr>\n",
              "      <th>std</th>\n",
              "      <td>260.703231</td>\n",
              "      <td>15.023624</td>\n",
              "    </tr>\n",
              "    <tr>\n",
              "      <th>min</th>\n",
              "      <td>7.000000</td>\n",
              "      <td>1.000000</td>\n",
              "    </tr>\n",
              "    <tr>\n",
              "      <th>25%</th>\n",
              "      <td>434.750000</td>\n",
              "      <td>28.000000</td>\n",
              "    </tr>\n",
              "    <tr>\n",
              "      <th>50%</th>\n",
              "      <td>560.000000</td>\n",
              "      <td>39.000000</td>\n",
              "    </tr>\n",
              "    <tr>\n",
              "      <th>75%</th>\n",
              "      <td>665.000000</td>\n",
              "      <td>49.000000</td>\n",
              "    </tr>\n",
              "    <tr>\n",
              "      <th>max</th>\n",
              "      <td>1268.000000</td>\n",
              "      <td>76.000000</td>\n",
              "    </tr>\n",
              "  </tbody>\n",
              "</table>\n",
              "</div>"
            ],
            "text/plain": [
              "       num_words_info  num_words_summary\n",
              "count     7188.000000        7188.000000\n",
              "mean       533.099054          38.201029\n",
              "std        260.703231          15.023624\n",
              "min          7.000000           1.000000\n",
              "25%        434.750000          28.000000\n",
              "50%        560.000000          39.000000\n",
              "75%        665.000000          49.000000\n",
              "max       1268.000000          76.000000"
            ]
          },
          "execution_count": 18,
          "metadata": {},
          "output_type": "execute_result"
        }
      ],
      "source": [
        "# получение статистической информации о длине слова\n",
        "# count — количество ненулевых значений в столбце.\n",
        "# mean — среднее значение.\n",
        "# std — стандартное отклонение (дисперсия?).\n",
        "# min — минимальное значение.\n",
        "# 25% — первый квартиль (ниже которого находятся 25% данных) Q1.\n",
        "# 50% — медиана         (ниже которого находятся 50% данных) Q2.\n",
        "# 75% — третий квартиль (ниже которого находятся 75% данных) Q3.\n",
        "# max — максимальное значение.\n",
        "\n",
        "df.describe()"
      ]
    },
    {
      "cell_type": "code",
      "execution_count": 30,
      "metadata": {},
      "outputs": [
        {
          "name": "stdout",
          "output_type": "stream",
          "text": [
            "Upper whisker: 1010.0\n",
            "Q3: 665.0\n",
            "Q2: 560.0\n",
            "Q1: 434.75\n",
            "Lower whisker: 90.0\n"
          ]
        },
        {
          "data": {
            "image/png": "[encoded data removed]",
            "text/plain": [
              "<Figure size 640x480 with 1 Axes>"
            ]
          },
          "metadata": {},
          "output_type": "display_data"
        }
      ],
      "source": [
        "sns.boxplot(df[\"num_words_info\"])\n",
        "plt.ylabel(\"number of words\")\n",
        "plt.title(\"Boxplot of the info number of words\")\n",
        "\n",
        "lines = plt.gca().lines[:6]\n",
        "all_lines = [lines[i].get_ydata()[0] for i in range(5)]\n",
        "\n",
        "Q1,Q3,info_lower_whisker,info_upper_whisker, Q2 = all_lines\n",
        "\n",
        "print(\"Upper whisker:\", info_upper_whisker)\n",
        "print(\"Q3:\", Q3)\n",
        "print(\"Q2:\", Q2)\n",
        "print(\"Q1:\", Q1)\n",
        "print(\"Lower whisker:\", info_lower_whisker)"
      ]
    },
    {
      "cell_type": "code",
      "execution_count": 31,
      "metadata": {},
      "outputs": [
        {
          "name": "stdout",
          "output_type": "stream",
          "text": [
            "Upper whisker: 76.0\n",
            "Q3: 49.0\n",
            "Q2: 39.0\n",
            "Q1: 28.0\n",
            "Lower whisker: 1.0\n"
          ]
        },
        {
          "data": {
            "image/png": "[encoded data removed]",
            "text/plain": [
              "<Figure size 640x480 with 1 Axes>"
            ]
          },
          "metadata": {},
          "output_type": "display_data"
        }
      ],
      "source": [
        "sns.boxplot(df[\"num_words_summary\"])\n",
        "plt.ylabel(\"number of words\")\n",
        "plt.title(\"Boxplot of the summaries number of words\")\n",
        "\n",
        "lines = plt.gca().lines[:6]\n",
        "all_lines = [lines[i].get_ydata()[0] for i in range(5)]\n",
        "\n",
        "Q1,Q3,summary_lower_whisker,summary_upper_whisker, Q2 = all_lines\n",
        "\n",
        "print(\"Upper whisker:\", summary_upper_whisker)\n",
        "print(\"Q3:\", Q3)\n",
        "print(\"Q2:\", Q2)\n",
        "print(\"Q1:\", Q1)\n",
        "print(\"Lower whisker:\", summary_lower_whisker)"
      ]
    },
    {
      "cell_type": "code",
      "execution_count": 32,
      "metadata": {},
      "outputs": [
        {
          "data": {
            "text/html": [
              "<div>\n",
              "<style scoped>\n",
              "    .dataframe tbody tr th:only-of-type {\n",
              "        vertical-align: middle;\n",
              "    }\n",
              "\n",
              "    .dataframe tbody tr th {\n",
              "        vertical-align: top;\n",
              "    }\n",
              "\n",
              "    .dataframe thead th {\n",
              "        text-align: right;\n",
              "    }\n",
              "</style>\n",
              "<table border=\"1\" class=\"dataframe\">\n",
              "  <thead>\n",
              "    <tr style=\"text-align: right;\">\n",
              "      <th></th>\n",
              "      <th>info</th>\n",
              "      <th>summary</th>\n",
              "      <th>num_words_info</th>\n",
              "      <th>num_words_summary</th>\n",
              "    </tr>\n",
              "  </thead>\n",
              "  <tbody>\n",
              "    <tr>\n",
              "      <th>0</th>\n",
              "      <td>В ближайшее воскресенье в легкоатлетическом ма...</td>\n",
              "      <td>В ближайшее воскресенье в Москве в 20-й раз в ...</td>\n",
              "      <td>691</td>\n",
              "      <td>36</td>\n",
              "    </tr>\n",
              "    <tr>\n",
              "      <th>1</th>\n",
              "      <td>Страны НАТО и члены Совбеза ООН устроили перек...</td>\n",
              "      <td>Страны Запада приступили к детальному планиров...</td>\n",
              "      <td>466</td>\n",
              "      <td>45</td>\n",
              "    </tr>\n",
              "    <tr>\n",
              "      <th>2</th>\n",
              "      <td>В понедельник прокуратура Петербурга официальн...</td>\n",
              "      <td>Проверив треть питерских НКО, финансируемых из...</td>\n",
              "      <td>761</td>\n",
              "      <td>37</td>\n",
              "    </tr>\n",
              "    <tr>\n",
              "      <th>3</th>\n",
              "      <td>Обязательный масочный режим, который был введе...</td>\n",
              "      <td>Соблюдение обязательных мер профилактики корон...</td>\n",
              "      <td>543</td>\n",
              "      <td>47</td>\n",
              "    </tr>\n",
              "    <tr>\n",
              "      <th>4</th>\n",
              "      <td>Обвинительный приговор Ходорковскому и Лебедев...</td>\n",
              "      <td>Реформа правосудия по Медведеву буксует. Финал...</td>\n",
              "      <td>506</td>\n",
              "      <td>17</td>\n",
              "    </tr>\n",
              "    <tr>\n",
              "      <th>...</th>\n",
              "      <td>...</td>\n",
              "      <td>...</td>\n",
              "      <td>...</td>\n",
              "      <td>...</td>\n",
              "    </tr>\n",
              "    <tr>\n",
              "      <th>7183</th>\n",
              "      <td>Российский Forbes опубликовал рейтинг самых вл...</td>\n",
              "      <td>Журнал Forbes составил рейтинг 100 самых влият...</td>\n",
              "      <td>624</td>\n",
              "      <td>39</td>\n",
              "    </tr>\n",
              "    <tr>\n",
              "      <th>7184</th>\n",
              "      <td>Следственный отдел по Хилокскому району СУ СКР...</td>\n",
              "      <td>В Забайкальском крае задержали двух подозревае...</td>\n",
              "      <td>510</td>\n",
              "      <td>30</td>\n",
              "    </tr>\n",
              "    <tr>\n",
              "      <th>7185</th>\n",
              "      <td>В апреле 2012 года российская экономика выросл...</td>\n",
              "      <td>Российская экономика сокращается второй месяц ...</td>\n",
              "      <td>537</td>\n",
              "      <td>35</td>\n",
              "    </tr>\n",
              "    <tr>\n",
              "      <th>7186</th>\n",
              "      <td>Кремль придерживается «устоявшейся практики» и...</td>\n",
              "      <td>Дискуссии о сокращении продолжительности новог...</td>\n",
              "      <td>524</td>\n",
              "      <td>41</td>\n",
              "    </tr>\n",
              "    <tr>\n",
              "      <th>7187</th>\n",
              "      <td>Сотрудники Следственного комитета (СК) ждут, к...</td>\n",
              "      <td>Следователи продолжают разбираться в обстоятел...</td>\n",
              "      <td>361</td>\n",
              "      <td>40</td>\n",
              "    </tr>\n",
              "  </tbody>\n",
              "</table>\n",
              "<p>6931 rows × 4 columns</p>\n",
              "</div>"
            ],
            "text/plain": [
              "                                                   info  \\\n",
              "0     В ближайшее воскресенье в легкоатлетическом ма...   \n",
              "1     Страны НАТО и члены Совбеза ООН устроили перек...   \n",
              "2     В понедельник прокуратура Петербурга официальн...   \n",
              "3     Обязательный масочный режим, который был введе...   \n",
              "4     Обвинительный приговор Ходорковскому и Лебедев...   \n",
              "...                                                 ...   \n",
              "7183  Российский Forbes опубликовал рейтинг самых вл...   \n",
              "7184  Следственный отдел по Хилокскому району СУ СКР...   \n",
              "7185  В апреле 2012 года российская экономика выросл...   \n",
              "7186  Кремль придерживается «устоявшейся практики» и...   \n",
              "7187  Сотрудники Следственного комитета (СК) ждут, к...   \n",
              "\n",
              "                                                summary  num_words_info  \\\n",
              "0     В ближайшее воскресенье в Москве в 20-й раз в ...             691   \n",
              "1     Страны Запада приступили к детальному планиров...             466   \n",
              "2     Проверив треть питерских НКО, финансируемых из...             761   \n",
              "3     Соблюдение обязательных мер профилактики корон...             543   \n",
              "4     Реформа правосудия по Медведеву буксует. Финал...             506   \n",
              "...                                                 ...             ...   \n",
              "7183  Журнал Forbes составил рейтинг 100 самых влият...             624   \n",
              "7184  В Забайкальском крае задержали двух подозревае...             510   \n",
              "7185  Российская экономика сокращается второй месяц ...             537   \n",
              "7186  Дискуссии о сокращении продолжительности новог...             524   \n",
              "7187  Следователи продолжают разбираться в обстоятел...             361   \n",
              "\n",
              "      num_words_summary  \n",
              "0                    36  \n",
              "1                    45  \n",
              "2                    37  \n",
              "3                    47  \n",
              "4                    17  \n",
              "...                 ...  \n",
              "7183                 39  \n",
              "7184                 30  \n",
              "7185                 35  \n",
              "7186                 41  \n",
              "7187                 40  \n",
              "\n",
              "[6931 rows x 4 columns]"
            ]
          },
          "execution_count": 32,
          "metadata": {},
          "output_type": "execute_result"
        }
      ],
      "source": [
        "# Удаление образцов очень длинных последовательностей\n",
        "new_df = df[(df['num_words_summary'] <= summary_upper_whisker) & (df['num_words_info'] <= info_upper_whisker)]\n",
        "new_df"
      ]
    },
    {
      "cell_type": "markdown",
      "metadata": {},
      "source": [
        "**Подготовка данных**"
      ]
    },
    {
      "cell_type": "code",
      "execution_count": 34,
      "metadata": {},
      "outputs": [
        {
          "data": {
            "text/html": [
              "<div>\n",
              "<style scoped>\n",
              "    .dataframe tbody tr th:only-of-type {\n",
              "        vertical-align: middle;\n",
              "    }\n",
              "\n",
              "    .dataframe tbody tr th {\n",
              "        vertical-align: top;\n",
              "    }\n",
              "\n",
              "    .dataframe thead th {\n",
              "        text-align: right;\n",
              "    }\n",
              "</style>\n",
              "<table border=\"1\" class=\"dataframe\">\n",
              "  <thead>\n",
              "    <tr style=\"text-align: right;\">\n",
              "      <th></th>\n",
              "      <th>info</th>\n",
              "      <th>summary</th>\n",
              "    </tr>\n",
              "  </thead>\n",
              "  <tbody>\n",
              "    <tr>\n",
              "      <th>0</th>\n",
              "      <td>США направили в Персидский залив группу корабл...</td>\n",
              "      <td>США отправляют в Персидский залив авианосец Jo...</td>\n",
              "    </tr>\n",
              "    <tr>\n",
              "      <th>1</th>\n",
              "      <td>Молли: У тебя есть гитара?\\r\\nШон: да, старый\\...</td>\n",
              "      <td>Шон одолжит Молли свою гитару и научит ее игра...</td>\n",
              "    </tr>\n",
              "    <tr>\n",
              "      <th>2</th>\n",
              "      <td>В битве лидеров Восточной конференции вновь си...</td>\n",
              "      <td>«Нью-Йорк Никс» продлил свою победную серию до...</td>\n",
              "    </tr>\n",
              "    <tr>\n",
              "      <th>3</th>\n",
              "      <td>В 2020 год президент США Дональд Трамп вошел с...</td>\n",
              "      <td>В преддверии президентских выборов 2020 года Д...</td>\n",
              "    </tr>\n",
              "    <tr>\n",
              "      <th>4</th>\n",
              "      <td>Томский областной суд в понедельник огласил пр...</td>\n",
              "      <td>Бывший мэр Томска Александр Макаров приговорен...</td>\n",
              "    </tr>\n",
              "    <tr>\n",
              "      <th>...</th>\n",
              "      <td>...</td>\n",
              "      <td>...</td>\n",
              "    </tr>\n",
              "    <tr>\n",
              "      <th>6926</th>\n",
              "      <td>Конец 1980-х. Киев. Цветут каштаны, власти вор...</td>\n",
              "      <td>Вышла книга русскоязычного киевского писателя ...</td>\n",
              "    </tr>\n",
              "    <tr>\n",
              "      <th>6927</th>\n",
              "      <td>Хлоя: Я очень беспокоюсь о Марке.\\r\\nСиенна: П...</td>\n",
              "      <td>Хлоя беспокоится о Марке. Марк в последнее вре...</td>\n",
              "    </tr>\n",
              "    <tr>\n",
              "      <th>6928</th>\n",
              "      <td>Медиакорпорация Liberty Interactive выкупила к...</td>\n",
              "      <td>Один из самых популярных туристических интерне...</td>\n",
              "    </tr>\n",
              "    <tr>\n",
              "      <th>6929</th>\n",
              "      <td>Арест бывшего премьер-министра Украины, основн...</td>\n",
              "      <td>Сторонники бывшего премьер-министра Юлии Тимош...</td>\n",
              "    </tr>\n",
              "    <tr>\n",
              "      <th>6930</th>\n",
              "      <td>Эндрю: Эй, Дуэйн, в эти выходные я покрашу сво...</td>\n",
              "      <td>Дуэйн поможет Эндрю покрасить его комнату в су...</td>\n",
              "    </tr>\n",
              "  </tbody>\n",
              "</table>\n",
              "<p>6931 rows × 2 columns</p>\n",
              "</div>"
            ],
            "text/plain": [
              "                                                   info  \\\n",
              "0     США направили в Персидский залив группу корабл...   \n",
              "1     Молли: У тебя есть гитара?\\r\\nШон: да, старый\\...   \n",
              "2     В битве лидеров Восточной конференции вновь си...   \n",
              "3     В 2020 год президент США Дональд Трамп вошел с...   \n",
              "4     Томский областной суд в понедельник огласил пр...   \n",
              "...                                                 ...   \n",
              "6926  Конец 1980-х. Киев. Цветут каштаны, власти вор...   \n",
              "6927  Хлоя: Я очень беспокоюсь о Марке.\\r\\nСиенна: П...   \n",
              "6928  Медиакорпорация Liberty Interactive выкупила к...   \n",
              "6929  Арест бывшего премьер-министра Украины, основн...   \n",
              "6930  Эндрю: Эй, Дуэйн, в эти выходные я покрашу сво...   \n",
              "\n",
              "                                                summary  \n",
              "0     США отправляют в Персидский залив авианосец Jo...  \n",
              "1     Шон одолжит Молли свою гитару и научит ее игра...  \n",
              "2     «Нью-Йорк Никс» продлил свою победную серию до...  \n",
              "3     В преддверии президентских выборов 2020 года Д...  \n",
              "4     Бывший мэр Томска Александр Макаров приговорен...  \n",
              "...                                                 ...  \n",
              "6926  Вышла книга русскоязычного киевского писателя ...  \n",
              "6927  Хлоя беспокоится о Марке. Марк в последнее вре...  \n",
              "6928  Один из самых популярных туристических интерне...  \n",
              "6929  Сторонники бывшего премьер-министра Юлии Тимош...  \n",
              "6930  Дуэйн поможет Эндрю покрасить его комнату в су...  \n",
              "\n",
              "[6931 rows x 2 columns]"
            ]
          },
          "execution_count": 34,
          "metadata": {},
          "output_type": "execute_result"
        }
      ],
      "source": [
        "# Удаление столбцов и перемешивание\n",
        "new_df.drop(columns=[\"num_words_info\", \"num_words_summary\"], inplace=True)\n",
        "new_df = new_df.sample(frac=1)\n",
        "new_df.reset_index(drop=True, inplace=False)"
      ]
    },
    {
      "cell_type": "code",
      "execution_count": 37,
      "metadata": {},
      "outputs": [],
      "source": [
        "# разделение данных на обучающие и тестовые\n",
        "# (есть в отдельном файле, нужно сконкатенировать)\n",
        "\n",
        "ratio = 0.8\n",
        "split = int(len(new_df)*ratio)\n",
        "\n",
        "train_df = new_df.iloc[:split]\n",
        "test_df = new_df.iloc[split:]"
      ]
    },
    {
      "cell_type": "code",
      "execution_count": 38,
      "metadata": {},
      "outputs": [
        {
          "data": {
            "text/plain": [
              "DatasetDict({\n",
              "    train: Dataset({\n",
              "        features: ['info', 'summary'],\n",
              "        num_rows: 5544\n",
              "    })\n",
              "    test: Dataset({\n",
              "        features: ['info', 'summary'],\n",
              "        num_rows: 1387\n",
              "    })\n",
              "})"
            ]
          },
          "execution_count": 38,
          "metadata": {},
          "output_type": "execute_result"
        }
      ],
      "source": [
        "# преобразование фрейма данных в DatasetDict\n",
        "train_dataset = Dataset.from_dict(train_df)\n",
        "test_dataset = Dataset.from_dict(test_df)\n",
        "dataset = datasets.DatasetDict({\"train\":train_dataset,\"test\":test_dataset})\n",
        "dataset"
      ]
    },
    {
      "cell_type": "code",
      "execution_count": 40,
      "metadata": {},
      "outputs": [
        {
          "name": "stderr",
          "output_type": "stream",
          "text": [
            "Map:   0%|          | 0/5544 [00:00<?, ? examples/s]\n"
          ]
        },
        {
          "ename": "NameError",
          "evalue": "name 'tokenizer' is not defined",
          "output_type": "error",
          "traceback": [
            "\u001b[1;31m---------------------------------------------------------------------------\u001b[0m",
            "\u001b[1;31mNameError\u001b[0m                                 Traceback (most recent call last)",
            "Cell \u001b[1;32mIn[40], line 16\u001b[0m\n\u001b[0;32m     13\u001b[0m     model_inputs[\u001b[38;5;124m\"\u001b[39m\u001b[38;5;124mlabels\u001b[39m\u001b[38;5;124m\"\u001b[39m] \u001b[38;5;241m=\u001b[39m labels[\u001b[38;5;124m\"\u001b[39m\u001b[38;5;124minput_ids\u001b[39m\u001b[38;5;124m\"\u001b[39m]\n\u001b[0;32m     14\u001b[0m     \u001b[38;5;28;01mreturn\u001b[39;00m model_inputs\n\u001b[1;32m---> 16\u001b[0m tokenized_datasets \u001b[38;5;241m=\u001b[39m \u001b[43mdataset\u001b[49m\u001b[38;5;241;43m.\u001b[39;49m\u001b[43mmap\u001b[49m\u001b[43m(\u001b[49m\u001b[43mpreprocess_function\u001b[49m\u001b[43m,\u001b[49m\u001b[43m \u001b[49m\u001b[43mbatched\u001b[49m\u001b[38;5;241;43m=\u001b[39;49m\u001b[38;5;28;43;01mTrue\u001b[39;49;00m\u001b[43m)\u001b[49m\n",
            "File \u001b[1;32mc:\\Users\\Kilmishkinn\\AppData\\Local\\Programs\\Python\\Python312\\Lib\\site-packages\\datasets\\dataset_dict.py:870\u001b[0m, in \u001b[0;36mDatasetDict.map\u001b[1;34m(self, function, with_indices, with_rank, input_columns, batched, batch_size, drop_last_batch, remove_columns, keep_in_memory, load_from_cache_file, cache_file_names, writer_batch_size, features, disable_nullable, fn_kwargs, num_proc, desc)\u001b[0m\n\u001b[0;32m    866\u001b[0m \u001b[38;5;28;01mif\u001b[39;00m cache_file_names \u001b[38;5;129;01mis\u001b[39;00m \u001b[38;5;28;01mNone\u001b[39;00m:\n\u001b[0;32m    867\u001b[0m     cache_file_names \u001b[38;5;241m=\u001b[39m {k: \u001b[38;5;28;01mNone\u001b[39;00m \u001b[38;5;28;01mfor\u001b[39;00m k \u001b[38;5;129;01min\u001b[39;00m \u001b[38;5;28mself\u001b[39m}\n\u001b[0;32m    868\u001b[0m \u001b[38;5;28;01mreturn\u001b[39;00m DatasetDict(\n\u001b[0;32m    869\u001b[0m     {\n\u001b[1;32m--> 870\u001b[0m         k: \u001b[43mdataset\u001b[49m\u001b[38;5;241;43m.\u001b[39;49m\u001b[43mmap\u001b[49m\u001b[43m(\u001b[49m\n\u001b[0;32m    871\u001b[0m \u001b[43m            \u001b[49m\u001b[43mfunction\u001b[49m\u001b[38;5;241;43m=\u001b[39;49m\u001b[43mfunction\u001b[49m\u001b[43m,\u001b[49m\n\u001b[0;32m    872\u001b[0m \u001b[43m            \u001b[49m\u001b[43mwith_indices\u001b[49m\u001b[38;5;241;43m=\u001b[39;49m\u001b[43mwith_indices\u001b[49m\u001b[43m,\u001b[49m\n\u001b[0;32m    873\u001b[0m \u001b[43m            \u001b[49m\u001b[43mwith_rank\u001b[49m\u001b[38;5;241;43m=\u001b[39;49m\u001b[43mwith_rank\u001b[49m\u001b[43m,\u001b[49m\n\u001b[0;32m    874\u001b[0m \u001b[43m            \u001b[49m\u001b[43minput_columns\u001b[49m\u001b[38;5;241;43m=\u001b[39;49m\u001b[43minput_columns\u001b[49m\u001b[43m,\u001b[49m\n\u001b[0;32m    875\u001b[0m \u001b[43m            \u001b[49m\u001b[43mbatched\u001b[49m\u001b[38;5;241;43m=\u001b[39;49m\u001b[43mbatched\u001b[49m\u001b[43m,\u001b[49m\n\u001b[0;32m    876\u001b[0m \u001b[43m            \u001b[49m\u001b[43mbatch_size\u001b[49m\u001b[38;5;241;43m=\u001b[39;49m\u001b[43mbatch_size\u001b[49m\u001b[43m,\u001b[49m\n\u001b[0;32m    877\u001b[0m \u001b[43m            \u001b[49m\u001b[43mdrop_last_batch\u001b[49m\u001b[38;5;241;43m=\u001b[39;49m\u001b[43mdrop_last_batch\u001b[49m\u001b[43m,\u001b[49m\n\u001b[0;32m    878\u001b[0m \u001b[43m            \u001b[49m\u001b[43mremove_columns\u001b[49m\u001b[38;5;241;43m=\u001b[39;49m\u001b[43mremove_columns\u001b[49m\u001b[43m,\u001b[49m\n\u001b[0;32m    879\u001b[0m \u001b[43m            \u001b[49m\u001b[43mkeep_in_memory\u001b[49m\u001b[38;5;241;43m=\u001b[39;49m\u001b[43mkeep_in_memory\u001b[49m\u001b[43m,\u001b[49m\n\u001b[0;32m    880\u001b[0m \u001b[43m            \u001b[49m\u001b[43mload_from_cache_file\u001b[49m\u001b[38;5;241;43m=\u001b[39;49m\u001b[43mload_from_cache_file\u001b[49m\u001b[43m,\u001b[49m\n\u001b[0;32m    881\u001b[0m \u001b[43m            \u001b[49m\u001b[43mcache_file_name\u001b[49m\u001b[38;5;241;43m=\u001b[39;49m\u001b[43mcache_file_names\u001b[49m\u001b[43m[\u001b[49m\u001b[43mk\u001b[49m\u001b[43m]\u001b[49m\u001b[43m,\u001b[49m\n\u001b[0;32m    882\u001b[0m \u001b[43m            \u001b[49m\u001b[43mwriter_batch_size\u001b[49m\u001b[38;5;241;43m=\u001b[39;49m\u001b[43mwriter_batch_size\u001b[49m\u001b[43m,\u001b[49m\n\u001b[0;32m    883\u001b[0m \u001b[43m            \u001b[49m\u001b[43mfeatures\u001b[49m\u001b[38;5;241;43m=\u001b[39;49m\u001b[43mfeatures\u001b[49m\u001b[43m,\u001b[49m\n\u001b[0;32m    884\u001b[0m \u001b[43m            \u001b[49m\u001b[43mdisable_nullable\u001b[49m\u001b[38;5;241;43m=\u001b[39;49m\u001b[43mdisable_nullable\u001b[49m\u001b[43m,\u001b[49m\n\u001b[0;32m    885\u001b[0m \u001b[43m            \u001b[49m\u001b[43mfn_kwargs\u001b[49m\u001b[38;5;241;43m=\u001b[39;49m\u001b[43mfn_kwargs\u001b[49m\u001b[43m,\u001b[49m\n\u001b[0;32m    886\u001b[0m \u001b[43m            \u001b[49m\u001b[43mnum_proc\u001b[49m\u001b[38;5;241;43m=\u001b[39;49m\u001b[43mnum_proc\u001b[49m\u001b[43m,\u001b[49m\n\u001b[0;32m    887\u001b[0m \u001b[43m            \u001b[49m\u001b[43mdesc\u001b[49m\u001b[38;5;241;43m=\u001b[39;49m\u001b[43mdesc\u001b[49m\u001b[43m,\u001b[49m\n\u001b[0;32m    888\u001b[0m \u001b[43m        \u001b[49m\u001b[43m)\u001b[49m\n\u001b[0;32m    889\u001b[0m         \u001b[38;5;28;01mfor\u001b[39;00m k, dataset \u001b[38;5;129;01min\u001b[39;00m \u001b[38;5;28mself\u001b[39m\u001b[38;5;241m.\u001b[39mitems()\n\u001b[0;32m    890\u001b[0m     }\n\u001b[0;32m    891\u001b[0m )\n",
            "File \u001b[1;32mc:\\Users\\Kilmishkinn\\AppData\\Local\\Programs\\Python\\Python312\\Lib\\site-packages\\datasets\\arrow_dataset.py:602\u001b[0m, in \u001b[0;36mtransmit_tasks.<locals>.wrapper\u001b[1;34m(*args, **kwargs)\u001b[0m\n\u001b[0;32m    600\u001b[0m     \u001b[38;5;28mself\u001b[39m: \u001b[38;5;124m\"\u001b[39m\u001b[38;5;124mDataset\u001b[39m\u001b[38;5;124m\"\u001b[39m \u001b[38;5;241m=\u001b[39m kwargs\u001b[38;5;241m.\u001b[39mpop(\u001b[38;5;124m\"\u001b[39m\u001b[38;5;124mself\u001b[39m\u001b[38;5;124m\"\u001b[39m)\n\u001b[0;32m    601\u001b[0m \u001b[38;5;66;03m# apply actual function\u001b[39;00m\n\u001b[1;32m--> 602\u001b[0m out: Union[\u001b[38;5;124m\"\u001b[39m\u001b[38;5;124mDataset\u001b[39m\u001b[38;5;124m\"\u001b[39m, \u001b[38;5;124m\"\u001b[39m\u001b[38;5;124mDatasetDict\u001b[39m\u001b[38;5;124m\"\u001b[39m] \u001b[38;5;241m=\u001b[39m \u001b[43mfunc\u001b[49m\u001b[43m(\u001b[49m\u001b[38;5;28;43mself\u001b[39;49m\u001b[43m,\u001b[49m\u001b[43m \u001b[49m\u001b[38;5;241;43m*\u001b[39;49m\u001b[43margs\u001b[49m\u001b[43m,\u001b[49m\u001b[43m \u001b[49m\u001b[38;5;241;43m*\u001b[39;49m\u001b[38;5;241;43m*\u001b[39;49m\u001b[43mkwargs\u001b[49m\u001b[43m)\u001b[49m\n\u001b[0;32m    603\u001b[0m datasets: List[\u001b[38;5;124m\"\u001b[39m\u001b[38;5;124mDataset\u001b[39m\u001b[38;5;124m\"\u001b[39m] \u001b[38;5;241m=\u001b[39m \u001b[38;5;28mlist\u001b[39m(out\u001b[38;5;241m.\u001b[39mvalues()) \u001b[38;5;28;01mif\u001b[39;00m \u001b[38;5;28misinstance\u001b[39m(out, \u001b[38;5;28mdict\u001b[39m) \u001b[38;5;28;01melse\u001b[39;00m [out]\n\u001b[0;32m    604\u001b[0m \u001b[38;5;28;01mfor\u001b[39;00m dataset \u001b[38;5;129;01min\u001b[39;00m datasets:\n\u001b[0;32m    605\u001b[0m     \u001b[38;5;66;03m# Remove task templates if a column mapping of the template is no longer valid\u001b[39;00m\n",
            "File \u001b[1;32mc:\\Users\\Kilmishkinn\\AppData\\Local\\Programs\\Python\\Python312\\Lib\\site-packages\\datasets\\arrow_dataset.py:567\u001b[0m, in \u001b[0;36mtransmit_format.<locals>.wrapper\u001b[1;34m(*args, **kwargs)\u001b[0m\n\u001b[0;32m    560\u001b[0m self_format \u001b[38;5;241m=\u001b[39m {\n\u001b[0;32m    561\u001b[0m     \u001b[38;5;124m\"\u001b[39m\u001b[38;5;124mtype\u001b[39m\u001b[38;5;124m\"\u001b[39m: \u001b[38;5;28mself\u001b[39m\u001b[38;5;241m.\u001b[39m_format_type,\n\u001b[0;32m    562\u001b[0m     \u001b[38;5;124m\"\u001b[39m\u001b[38;5;124mformat_kwargs\u001b[39m\u001b[38;5;124m\"\u001b[39m: \u001b[38;5;28mself\u001b[39m\u001b[38;5;241m.\u001b[39m_format_kwargs,\n\u001b[0;32m    563\u001b[0m     \u001b[38;5;124m\"\u001b[39m\u001b[38;5;124mcolumns\u001b[39m\u001b[38;5;124m\"\u001b[39m: \u001b[38;5;28mself\u001b[39m\u001b[38;5;241m.\u001b[39m_format_columns,\n\u001b[0;32m    564\u001b[0m     \u001b[38;5;124m\"\u001b[39m\u001b[38;5;124moutput_all_columns\u001b[39m\u001b[38;5;124m\"\u001b[39m: \u001b[38;5;28mself\u001b[39m\u001b[38;5;241m.\u001b[39m_output_all_columns,\n\u001b[0;32m    565\u001b[0m }\n\u001b[0;32m    566\u001b[0m \u001b[38;5;66;03m# apply actual function\u001b[39;00m\n\u001b[1;32m--> 567\u001b[0m out: Union[\u001b[38;5;124m\"\u001b[39m\u001b[38;5;124mDataset\u001b[39m\u001b[38;5;124m\"\u001b[39m, \u001b[38;5;124m\"\u001b[39m\u001b[38;5;124mDatasetDict\u001b[39m\u001b[38;5;124m\"\u001b[39m] \u001b[38;5;241m=\u001b[39m \u001b[43mfunc\u001b[49m\u001b[43m(\u001b[49m\u001b[38;5;28;43mself\u001b[39;49m\u001b[43m,\u001b[49m\u001b[43m \u001b[49m\u001b[38;5;241;43m*\u001b[39;49m\u001b[43margs\u001b[49m\u001b[43m,\u001b[49m\u001b[43m \u001b[49m\u001b[38;5;241;43m*\u001b[39;49m\u001b[38;5;241;43m*\u001b[39;49m\u001b[43mkwargs\u001b[49m\u001b[43m)\u001b[49m\n\u001b[0;32m    568\u001b[0m datasets: List[\u001b[38;5;124m\"\u001b[39m\u001b[38;5;124mDataset\u001b[39m\u001b[38;5;124m\"\u001b[39m] \u001b[38;5;241m=\u001b[39m \u001b[38;5;28mlist\u001b[39m(out\u001b[38;5;241m.\u001b[39mvalues()) \u001b[38;5;28;01mif\u001b[39;00m \u001b[38;5;28misinstance\u001b[39m(out, \u001b[38;5;28mdict\u001b[39m) \u001b[38;5;28;01melse\u001b[39;00m [out]\n\u001b[0;32m    569\u001b[0m \u001b[38;5;66;03m# re-apply format to the output\u001b[39;00m\n",
            "File \u001b[1;32mc:\\Users\\Kilmishkinn\\AppData\\Local\\Programs\\Python\\Python312\\Lib\\site-packages\\datasets\\arrow_dataset.py:3161\u001b[0m, in \u001b[0;36mDataset.map\u001b[1;34m(self, function, with_indices, with_rank, input_columns, batched, batch_size, drop_last_batch, remove_columns, keep_in_memory, load_from_cache_file, cache_file_name, writer_batch_size, features, disable_nullable, fn_kwargs, num_proc, suffix_template, new_fingerprint, desc)\u001b[0m\n\u001b[0;32m   3155\u001b[0m \u001b[38;5;28;01mif\u001b[39;00m transformed_dataset \u001b[38;5;129;01mis\u001b[39;00m \u001b[38;5;28;01mNone\u001b[39;00m:\n\u001b[0;32m   3156\u001b[0m     \u001b[38;5;28;01mwith\u001b[39;00m hf_tqdm(\n\u001b[0;32m   3157\u001b[0m         unit\u001b[38;5;241m=\u001b[39m\u001b[38;5;124m\"\u001b[39m\u001b[38;5;124m examples\u001b[39m\u001b[38;5;124m\"\u001b[39m,\n\u001b[0;32m   3158\u001b[0m         total\u001b[38;5;241m=\u001b[39mpbar_total,\n\u001b[0;32m   3159\u001b[0m         desc\u001b[38;5;241m=\u001b[39mdesc \u001b[38;5;129;01mor\u001b[39;00m \u001b[38;5;124m\"\u001b[39m\u001b[38;5;124mMap\u001b[39m\u001b[38;5;124m\"\u001b[39m,\n\u001b[0;32m   3160\u001b[0m     ) \u001b[38;5;28;01mas\u001b[39;00m pbar:\n\u001b[1;32m-> 3161\u001b[0m \u001b[43m        \u001b[49m\u001b[38;5;28;43;01mfor\u001b[39;49;00m\u001b[43m \u001b[49m\u001b[43mrank\u001b[49m\u001b[43m,\u001b[49m\u001b[43m \u001b[49m\u001b[43mdone\u001b[49m\u001b[43m,\u001b[49m\u001b[43m \u001b[49m\u001b[43mcontent\u001b[49m\u001b[43m \u001b[49m\u001b[38;5;129;43;01min\u001b[39;49;00m\u001b[43m \u001b[49m\u001b[43mDataset\u001b[49m\u001b[38;5;241;43m.\u001b[39;49m\u001b[43m_map_single\u001b[49m\u001b[43m(\u001b[49m\u001b[38;5;241;43m*\u001b[39;49m\u001b[38;5;241;43m*\u001b[39;49m\u001b[43mdataset_kwargs\u001b[49m\u001b[43m)\u001b[49m\u001b[43m:\u001b[49m\n\u001b[0;32m   3162\u001b[0m \u001b[43m            \u001b[49m\u001b[38;5;28;43;01mif\u001b[39;49;00m\u001b[43m \u001b[49m\u001b[43mdone\u001b[49m\u001b[43m:\u001b[49m\n\u001b[0;32m   3163\u001b[0m \u001b[43m                \u001b[49m\u001b[43mshards_done\u001b[49m\u001b[43m \u001b[49m\u001b[38;5;241;43m+\u001b[39;49m\u001b[38;5;241;43m=\u001b[39;49m\u001b[43m \u001b[49m\u001b[38;5;241;43m1\u001b[39;49m\n",
            "File \u001b[1;32mc:\\Users\\Kilmishkinn\\AppData\\Local\\Programs\\Python\\Python312\\Lib\\site-packages\\datasets\\arrow_dataset.py:3552\u001b[0m, in \u001b[0;36mDataset._map_single\u001b[1;34m(shard, function, with_indices, with_rank, input_columns, batched, batch_size, drop_last_batch, remove_columns, keep_in_memory, cache_file_name, writer_batch_size, features, disable_nullable, fn_kwargs, new_fingerprint, rank, offset)\u001b[0m\n\u001b[0;32m   3548\u001b[0m indices \u001b[38;5;241m=\u001b[39m \u001b[38;5;28mlist\u001b[39m(\n\u001b[0;32m   3549\u001b[0m     \u001b[38;5;28mrange\u001b[39m(\u001b[38;5;241m*\u001b[39m(\u001b[38;5;28mslice\u001b[39m(i, i \u001b[38;5;241m+\u001b[39m batch_size)\u001b[38;5;241m.\u001b[39mindices(shard\u001b[38;5;241m.\u001b[39mnum_rows)))\n\u001b[0;32m   3550\u001b[0m )  \u001b[38;5;66;03m# Something simpler?\u001b[39;00m\n\u001b[0;32m   3551\u001b[0m \u001b[38;5;28;01mtry\u001b[39;00m:\n\u001b[1;32m-> 3552\u001b[0m     batch \u001b[38;5;241m=\u001b[39m \u001b[43mapply_function_on_filtered_inputs\u001b[49m\u001b[43m(\u001b[49m\n\u001b[0;32m   3553\u001b[0m \u001b[43m        \u001b[49m\u001b[43mbatch\u001b[49m\u001b[43m,\u001b[49m\n\u001b[0;32m   3554\u001b[0m \u001b[43m        \u001b[49m\u001b[43mindices\u001b[49m\u001b[43m,\u001b[49m\n\u001b[0;32m   3555\u001b[0m \u001b[43m        \u001b[49m\u001b[43mcheck_same_num_examples\u001b[49m\u001b[38;5;241;43m=\u001b[39;49m\u001b[38;5;28;43mlen\u001b[39;49m\u001b[43m(\u001b[49m\u001b[43mshard\u001b[49m\u001b[38;5;241;43m.\u001b[39;49m\u001b[43mlist_indexes\u001b[49m\u001b[43m(\u001b[49m\u001b[43m)\u001b[49m\u001b[43m)\u001b[49m\u001b[43m \u001b[49m\u001b[38;5;241;43m>\u001b[39;49m\u001b[43m \u001b[49m\u001b[38;5;241;43m0\u001b[39;49m\u001b[43m,\u001b[49m\n\u001b[0;32m   3556\u001b[0m \u001b[43m        \u001b[49m\u001b[43moffset\u001b[49m\u001b[38;5;241;43m=\u001b[39;49m\u001b[43moffset\u001b[49m\u001b[43m,\u001b[49m\n\u001b[0;32m   3557\u001b[0m \u001b[43m    \u001b[49m\u001b[43m)\u001b[49m\n\u001b[0;32m   3558\u001b[0m \u001b[38;5;28;01mexcept\u001b[39;00m NumExamplesMismatchError:\n\u001b[0;32m   3559\u001b[0m     \u001b[38;5;28;01mraise\u001b[39;00m DatasetTransformationNotAllowedError(\n\u001b[0;32m   3560\u001b[0m         \u001b[38;5;124m\"\u001b[39m\u001b[38;5;124mUsing `.map` in batched mode on a dataset with attached indexes is allowed only if it doesn\u001b[39m\u001b[38;5;124m'\u001b[39m\u001b[38;5;124mt create or remove existing examples. You can first run `.drop_index() to remove your index and then re-add it.\u001b[39m\u001b[38;5;124m\"\u001b[39m\n\u001b[0;32m   3561\u001b[0m     ) \u001b[38;5;28;01mfrom\u001b[39;00m \u001b[38;5;28;01mNone\u001b[39;00m\n",
            "File \u001b[1;32mc:\\Users\\Kilmishkinn\\AppData\\Local\\Programs\\Python\\Python312\\Lib\\site-packages\\datasets\\arrow_dataset.py:3421\u001b[0m, in \u001b[0;36mDataset._map_single.<locals>.apply_function_on_filtered_inputs\u001b[1;34m(pa_inputs, indices, check_same_num_examples, offset)\u001b[0m\n\u001b[0;32m   3419\u001b[0m \u001b[38;5;28;01mif\u001b[39;00m with_rank:\n\u001b[0;32m   3420\u001b[0m     additional_args \u001b[38;5;241m+\u001b[39m\u001b[38;5;241m=\u001b[39m (rank,)\n\u001b[1;32m-> 3421\u001b[0m processed_inputs \u001b[38;5;241m=\u001b[39m \u001b[43mfunction\u001b[49m\u001b[43m(\u001b[49m\u001b[38;5;241;43m*\u001b[39;49m\u001b[43mfn_args\u001b[49m\u001b[43m,\u001b[49m\u001b[43m \u001b[49m\u001b[38;5;241;43m*\u001b[39;49m\u001b[43madditional_args\u001b[49m\u001b[43m,\u001b[49m\u001b[43m \u001b[49m\u001b[38;5;241;43m*\u001b[39;49m\u001b[38;5;241;43m*\u001b[39;49m\u001b[43mfn_kwargs\u001b[49m\u001b[43m)\u001b[49m\n\u001b[0;32m   3422\u001b[0m \u001b[38;5;28;01mif\u001b[39;00m \u001b[38;5;28misinstance\u001b[39m(processed_inputs, LazyDict):\n\u001b[0;32m   3423\u001b[0m     processed_inputs \u001b[38;5;241m=\u001b[39m {\n\u001b[0;32m   3424\u001b[0m         k: v \u001b[38;5;28;01mfor\u001b[39;00m k, v \u001b[38;5;129;01min\u001b[39;00m processed_inputs\u001b[38;5;241m.\u001b[39mdata\u001b[38;5;241m.\u001b[39mitems() \u001b[38;5;28;01mif\u001b[39;00m k \u001b[38;5;129;01mnot\u001b[39;00m \u001b[38;5;129;01min\u001b[39;00m processed_inputs\u001b[38;5;241m.\u001b[39mkeys_to_format\n\u001b[0;32m   3425\u001b[0m     }\n",
            "Cell \u001b[1;32mIn[40], line 5\u001b[0m, in \u001b[0;36mpreprocess_function\u001b[1;34m(examples)\u001b[0m\n\u001b[0;32m      4\u001b[0m \u001b[38;5;28;01mdef\u001b[39;00m \u001b[38;5;21mpreprocess_function\u001b[39m(examples):\n\u001b[1;32m----> 5\u001b[0m     model_inputs \u001b[38;5;241m=\u001b[39m \u001b[43mtokenizer\u001b[49m(\n\u001b[0;32m      6\u001b[0m         examples[\u001b[38;5;124m\"\u001b[39m\u001b[38;5;124marticle\u001b[39m\u001b[38;5;124m\"\u001b[39m],\n\u001b[0;32m      7\u001b[0m         max_length\u001b[38;5;241m=\u001b[39mmax_input_length,\n\u001b[0;32m      8\u001b[0m         truncation\u001b[38;5;241m=\u001b[39m\u001b[38;5;28;01mTrue\u001b[39;00m,\n\u001b[0;32m      9\u001b[0m     )\n\u001b[0;32m     10\u001b[0m     labels \u001b[38;5;241m=\u001b[39m tokenizer(\n\u001b[0;32m     11\u001b[0m         examples[\u001b[38;5;124m\"\u001b[39m\u001b[38;5;124msummary\u001b[39m\u001b[38;5;124m\"\u001b[39m], max_length\u001b[38;5;241m=\u001b[39mmax_target_length, truncation\u001b[38;5;241m=\u001b[39m\u001b[38;5;28;01mTrue\u001b[39;00m\n\u001b[0;32m     12\u001b[0m     )\n\u001b[0;32m     13\u001b[0m     model_inputs[\u001b[38;5;124m\"\u001b[39m\u001b[38;5;124mlabels\u001b[39m\u001b[38;5;124m\"\u001b[39m] \u001b[38;5;241m=\u001b[39m labels[\u001b[38;5;124m\"\u001b[39m\u001b[38;5;124minput_ids\u001b[39m\u001b[38;5;124m\"\u001b[39m]\n",
            "\u001b[1;31mNameError\u001b[0m: name 'tokenizer' is not defined"
          ]
        }
      ],
      "source": [
        "max_input_length = int(info_upper_whisker)\n",
        "max_target_length = int(summary_upper_whisker)\n",
        "\n",
        "def preprocess_function(examples):\n",
        "    model_inputs = tokenizer(\n",
        "        examples[\"article\"],\n",
        "        max_length=max_input_length,\n",
        "        truncation=True,\n",
        "    )\n",
        "    labels = tokenizer(\n",
        "        examples[\"summary\"], max_length=max_target_length, truncation=True\n",
        "    )\n",
        "    model_inputs[\"labels\"] = labels[\"input_ids\"]\n",
        "    return model_inputs\n",
        "\n",
        "tokenized_datasets = dataset.map(preprocess_function, batched=True)"
      ]
    },
    {
      "cell_type": "code",
      "execution_count": null,
      "metadata": {},
      "outputs": [],
      "source": [
        "import evaluate\n",
        "\n",
        "rouge_score = evaluate.load(\"rouge\")\n",
        "\n",
        "def compute_metrics(eval_pred):\n",
        "    # Предсказания и истинные метки\n",
        "    predictions, labels = eval_pred\n",
        "    \n",
        "    # Декодировать сгенерированное резюме в текст\n",
        "    decoded_preds = tokenizer.batch_decode(predictions, skip_special_tokens=True)\n",
        "    \n",
        "    # Значения -100 в метках заменяются на tokenizer.pad_token_id\n",
        "    labels = np.where(labels != -100, labels, tokenizer.pad_token_id)\n",
        "    \n",
        "    # Декодировать референс резюме в текст\n",
        "    decoded_labels = tokenizer.batch_decode(labels, skip_special_tokens=True)\n",
        "    \n",
        "    # ROUGE ожидает, чтобы после каждого предложения добавлялся перевод строки\n",
        "    decoded_preds = [\"\\n\".join(sent_tokenize(pred.strip())) for pred in decoded_preds]\n",
        "    decoded_labels = [\"\\n\".join(sent_tokenize(label.strip())) for label in decoded_labels]\n",
        "    \n",
        "    # Compute ROUGE scores\n",
        "    result = rouge_score.compute(predictions=decoded_preds, references=decoded_labels, use_stemmer=True)\n",
        "    \n",
        "    return {k: round(v, 4) for k, v in result.items()}"
      ]
    },
    {
      "cell_type": "markdown",
      "metadata": {},
      "source": [
        "**Генерация Summaries с использованием Pipline**"
      ]
    },
    {
      "cell_type": "code",
      "execution_count": null,
      "metadata": {},
      "outputs": [],
      "source": [
        "summarizer = pipeline(\"summarization\", model=model_ckpt)\n",
        "\n",
        "def print_summary(idx):\n",
        "    article = dataset[\"test\"][idx][\"article\"]\n",
        "    summary = dataset[\"test\"][idx][\"summary\"]\n",
        "    g_summary = summarizer(dataset[\"test\"][idx][\"article\"])[0][\"summary_text\"]\n",
        "    score = rouge_score.compute(predictions=[g_summary], references=[summary])\n",
        "    scores = {k: round(v, 4) for k, v in score.items()}\n",
        "    print(f\"'>>> Article: {article}'\")\n",
        "    print(f\"\\n'>>> Summary: {summary}'\")\n",
        "    print(f\"\\n'>>> Generated Summary: {g_summary}'\")\n",
        "    print(f\"\\n'>>> ROUGE Score: {scores}'\")\n",
        "\n",
        "print_summary(5)"
      ]
    },
    {
      "cell_type": "markdown",
      "metadata": {},
      "source": [
        "**Тонкая настройка**"
      ]
    },
    {
      "cell_type": "code",
      "execution_count": null,
      "metadata": {},
      "outputs": [],
      "source": [
        "# Создание data_collator\n",
        "\n",
        "# data_collator - это функция,\n",
        "# которая принимает пакет данных и преобразует его в формат,\n",
        "# подходящий для обучения модели\n",
        "\n",
        "data_collator = DataCollatorForSeq2Seq(tokenizer, model=model)\n",
        "\n",
        "\n",
        "# Удаление столбцов имён столбцов\n",
        "tokenized_datasets = tokenized_datasets.remove_columns(dataset[\"train\"].column_names)"
      ]
    },
    {
      "cell_type": "code",
      "execution_count": null,
      "metadata": {},
      "outputs": [],
      "source": [
        "batch_size = 8\n",
        "num_train_epochs = 8\n",
        "# Показать training loss для каждой эпохи\n",
        "logging_steps = len(tokenized_datasets[\"train\"]) // batch_size\n",
        "model_name = model_ckpt\n",
        "\n",
        "args = Seq2SeqTrainingArguments(\n",
        "    output_dir=f\"{model_name}-finetuned-BBC\",\n",
        "    evaluation_strategy=\"epoch\",\n",
        "    learning_rate=5.6e-5,\n",
        "    per_device_train_batch_size=batch_size,\n",
        "    per_device_eval_batch_size=batch_size,\n",
        "    weight_decay=0.01,\n",
        "    save_total_limit=3,\n",
        "    num_train_epochs=num_train_epochs,\n",
        "    predict_with_generate=True,\n",
        "    logging_steps=logging_steps,\n",
        "    push_to_hub=True,)\n",
        "\n",
        "trainer = Seq2SeqTrainer(\n",
        "    model,\n",
        "    args,\n",
        "    train_dataset=tokenized_datasets[\"train\"],\n",
        "    eval_dataset=tokenized_datasets[\"test\"],\n",
        "    data_collator=data_collator,\n",
        "    tokenizer=tokenizer,\n",
        "    compute_metrics=compute_metrics,)"
      ]
    },
    {
      "cell_type": "markdown",
      "metadata": {},
      "source": [
        "**Обучение**"
      ]
    },
    {
      "cell_type": "code",
      "execution_count": null,
      "metadata": {},
      "outputs": [],
      "source": [
        "trainer.train()"
      ]
    }
  ],
  "metadata": {
    "colab": {
      "provenance": []
    },
    "kernelspec": {
      "display_name": "Python 3",
      "name": "python3"
    },
    "language_info": {
      "codemirror_mode": {
        "name": "ipython",
        "version": 3
      },
      "file_extension": ".py",
      "mimetype": "text/x-python",
      "name": "python",
      "nbconvert_exporter": "python",
      "pygments_lexer": "ipython3",
      "version": "3.12.0"
    }
  },
  "nbformat": 4,
  "nbformat_minor": 0
}
